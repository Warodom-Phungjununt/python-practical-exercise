{
 "cells": [
  {
   "cell_type": "markdown",
   "metadata": {},
   "source": [
    "# Lab 2 - Exercise"
   ]
  },
  {
   "cell_type": "code",
   "execution_count": 1,
   "metadata": {},
   "outputs": [
    {
     "name": "stdout",
     "output_type": "stream",
     "text": [
      "<Response [200]>\n",
      "200 OK\n",
      "{'date': 'Wed, 03 Apr 2024 15:07:04 GMT', 'server': 'mw-web.codfw.main-97c4f9b8d-rpxrp', 'x-content-type-options': 'nosniff', 'content-language': 'th', 'origin-trial': 'AonOP4SwCrqpb0nhZbg554z9iJimP3DxUDB8V4yu9fyyepauGKD0NXqTknWi4gnuDfMG6hNb7TDUDTsl0mDw9gIAAABmeyJvcmlnaW4iOiJodHRwczovL3dpa2lwZWRpYS5vcmc6NDQzIiwiZmVhdHVyZSI6IlRvcExldmVsVHBjZCIsImV4cGlyeSI6MTczNTM0Mzk5OSwiaXNTdWJkb21haW4iOnRydWV9', 'accept-ch': '', 'vary': 'Accept-Encoding,Cookie,Authorization', 'last-modified': 'Tue, 26 Mar 2024 04:30:32 GMT', 'content-type': 'text/html; charset=UTF-8', 'content-encoding': 'gzip', 'age': '264', 'x-cache': 'cp5023 hit, cp5023 hit/1', 'x-cache-status': 'hit-front', 'server-timing': 'cache;desc=\"hit-front\", host;desc=\"cp5023\"', 'strict-transport-security': 'max-age=106384710; includeSubDomains; preload', 'report-to': '{ \"group\": \"wm_nel\", \"max_age\": 604800, \"endpoints\": [{ \"url\": \"https://intake-logging.wikimedia.org/v1/events?stream=w3c.reportingapi.network_error&schema_uri=/w3c/reportingapi/network_error/1.0.0\" }] }', 'nel': '{ \"report_to\": \"wm_nel\", \"max_age\": 604800, \"failure_fraction\": 0.05, \"success_fraction\": 0.0}', 'set-cookie': 'WMF-Last-Access=03-Apr-2024;Path=/;HttpOnly;secure;Expires=Sun, 05 May 2024 12:00:00 GMT, WMF-Last-Access-Global=03-Apr-2024;Path=/;Domain=.wikipedia.org;HttpOnly;secure;Expires=Sun, 05 May 2024 12:00:00 GMT, WMF-DP=855;Path=/;HttpOnly;secure;Expires=Thu, 04 Apr 2024 00:00:00 GMT, GeoIP=SG::Singapore:1.29:103.85:v4; Path=/; secure; Domain=.wikipedia.org, NetworkProbeLimit=0.001;Path=/;Secure;Max-Age=3600', 'x-client-ip': '52.187.60.140', 'cache-control': 'private, s-maxage=0, max-age=0, must-revalidate', 'accept-ranges': 'bytes', 'content-length': '44422'}\n",
      "<!DOCTYPE html>\n",
      "<html class=\"client-nojs vector-feature-language-in-header-enabled vector-feature-language-in-main-page-header-disabled vector-feature-sticky-header-disabled vector-feature-page-tools-pinned-disabled vector-feature-toc-pinned-clientpref-1 vector-feature-main-menu-pinned-disabled vector-feature-limited-width-clientpref-1 vector-feature-limited-width-content-enabled vector-feature-custom-font-size-clientpref-0 vector-feature-client-preferences-disabled vector-feature-client-prefs-p\n"
     ]
    }
   ],
   "source": [
    "import requests\n",
    "import urllib.parse\n",
    "from bs4 import BeautifulSoup\n",
    "from time import sleep\n",
    "import copy\n",
    "\n",
    "response = requests.get('https://th.wikipedia.org/w/index.php?title=จีดีเอช&oldid=8244422')\n",
    "\n",
    "print(response)\n",
    "print(response.status_code, response.reason)\n",
    "print(response.headers)\n",
    "\n",
    "html = response.text\n",
    "soup = BeautifulSoup(html, 'html.parser')\n",
    "print(soup.prettify()[0:500])"
   ]
  },
  {
   "cell_type": "code",
   "execution_count": 2,
   "metadata": {},
   "outputs": [
    {
     "data": {
      "text/plain": [
       "[<b>GDH</b>,\n",
       " <b>นี่เป็น<a href=\"/wiki/%E0%B8%A7%E0%B8%B4%E0%B8%98%E0%B8%B5%E0%B9%83%E0%B8%8A%E0%B9%89:%E0%B8%9B%E0%B8%A3%E0%B8%B0%E0%B8%A7%E0%B8%B1%E0%B8%95%E0%B8%B4%E0%B8%AB%E0%B8%99%E0%B9%89%E0%B8%B2\" title=\"วิธีใช้:ประวัติหน้า\">รุ่นแก้ไขเก่า</a>ของหน้านี้ ที่แก้ไขโดย <span id=\"mw-revision-name\"><a class=\"mw-userlink mw-anonuserlink\" data-mw-revid=\"8244422\" href=\"/wiki/%E0%B8%9E%E0%B8%B4%E0%B9%80%E0%B8%A8%E0%B8%A9:%E0%B9%80%E0%B8%A3%E0%B8%B7%E0%B9%88%E0%B8%AD%E0%B8%87%E0%B8%97%E0%B8%B5%E0%B9%88%E0%B9%80%E0%B8%82%E0%B8%B5%E0%B8%A2%E0%B8%99/223.204.218.13\" title=\"พิเศษ:เรื่องที่เขียน/223.204.218.13\"><bdi>223.204.218.13</bdi></a> <span class=\"mw-usertoollinks\">(<a class=\"new mw-usertoollinks-talk\" href=\"/w/index.php?title=%E0%B8%84%E0%B8%B8%E0%B8%A2%E0%B8%81%E0%B8%B1%E0%B8%9A%E0%B8%9C%E0%B8%B9%E0%B9%89%E0%B9%83%E0%B8%8A%E0%B9%89:223.204.218.13&amp;action=edit&amp;redlink=1\" title=\"คุยกับผู้ใช้:223.204.218.13 (ไม่มีหน้านี้)\">คุย</a>)</span></span> เมื่อ <span id=\"mw-revision-date\">19:58, 24 เมษายน 2562</span><span id=\"mw-revision-summary\"> <span class=\"comment\">(<span dir=\"auto\"><span class=\"autocomment\"><a href=\"#นักแสดงในสังกัด\">→‎นักแสดงในสังกัด</a></span></span>)</span></span> ซึ่งอาจแตกต่างจาก<span class=\"plainlinks\"><a class=\"external text\" href=\"https://th.wikipedia.org/wiki/%E0%B8%88%E0%B8%B5%E0%B8%94%E0%B8%B5%E0%B9%80%E0%B8%AD%E0%B8%8A\">รุ่นแก้ไขปัจจุบัน</a></span>มาก</b>,\n",
       " <b>จีดีเอช</b>,\n",
       " <b>บริษัท จีดีเอช ห้าห้าเก้า จำกัด</b>,\n",
       " <b>GDH</b>,\n",
       " <b>จีดีเอช ห้าห้าเก้า</b>,\n",
       " <b>จีดีเอช</b>,\n",
       " <b>ผู้กำกับภาพยนตร์</b>,\n",
       " <b>GDH</b>,\n",
       " <b>นาดาวบางกอก</b>,\n",
       " <b>ภาพดีทวีสุข</b>,\n",
       " <b>งานดีทวีสุข</b>,\n",
       " <b>อดีตนักแสดงในสังกัด</b>,\n",
       " <b>นักแสดงนอกสังกัดที่เคยร่วมมีผลงาน</b>,\n",
       " <b>110.91 ล้านบาท</b>,\n",
       " <b>112.15 ล้านบาท</b>,\n",
       " <b>146.14 ล้านบาท</b>,\n",
       " <b>130.08 ล้านบาท</b>,\n",
       " <b>รายการท่องเที่ยว</b>,\n",
       " <b>ปกิณกะ</b>,\n",
       " <b>รายการวาไรตี้</b>,\n",
       " <b>ข่าวและสาระเชิงข่าว</b>,\n",
       " <b>สารคดี</b>,\n",
       " <b>ปกิณกะ</b>,\n",
       " <b>คมชัดลึก</b>,\n",
       " <b>บุคคลสำคัญ</b>,\n",
       " <b>ภาพยนตร์</b>,\n",
       " <b>โทรทัศน์</b>,\n",
       " <b>2559</b>,\n",
       " <b>2560</b>,\n",
       " <b>2561</b>,\n",
       " <b>2562</b>,\n",
       " <b>2563</b>,\n",
       " <b>2564</b>,\n",
       " <b>ส่วนเกี่ยวข้อง</b>,\n",
       " <b>ดูเพิ่มเติม</b>]"
      ]
     },
     "execution_count": 2,
     "metadata": {},
     "output_type": "execute_result"
    }
   ],
   "source": [
    "soup.find_all('b')"
   ]
  },
  {
   "cell_type": "code",
   "execution_count": 3,
   "metadata": {},
   "outputs": [
    {
     "data": {
      "text/plain": [
       "[<b>GDH</b>,\n",
       " <b>นี่เป็น<a href=\"/wiki/%E0%B8%A7%E0%B8%B4%E0%B8%98%E0%B8%B5%E0%B9%83%E0%B8%8A%E0%B9%89:%E0%B8%9B%E0%B8%A3%E0%B8%B0%E0%B8%A7%E0%B8%B1%E0%B8%95%E0%B8%B4%E0%B8%AB%E0%B8%99%E0%B9%89%E0%B8%B2\" title=\"วิธีใช้:ประวัติหน้า\">รุ่นแก้ไขเก่า</a>ของหน้านี้ ที่แก้ไขโดย <span id=\"mw-revision-name\"><a class=\"mw-userlink mw-anonuserlink\" data-mw-revid=\"8244422\" href=\"/wiki/%E0%B8%9E%E0%B8%B4%E0%B9%80%E0%B8%A8%E0%B8%A9:%E0%B9%80%E0%B8%A3%E0%B8%B7%E0%B9%88%E0%B8%AD%E0%B8%87%E0%B8%97%E0%B8%B5%E0%B9%88%E0%B9%80%E0%B8%82%E0%B8%B5%E0%B8%A2%E0%B8%99/223.204.218.13\" title=\"พิเศษ:เรื่องที่เขียน/223.204.218.13\"><bdi>223.204.218.13</bdi></a> <span class=\"mw-usertoollinks\">(<a class=\"new mw-usertoollinks-talk\" href=\"/w/index.php?title=%E0%B8%84%E0%B8%B8%E0%B8%A2%E0%B8%81%E0%B8%B1%E0%B8%9A%E0%B8%9C%E0%B8%B9%E0%B9%89%E0%B9%83%E0%B8%8A%E0%B9%89:223.204.218.13&amp;action=edit&amp;redlink=1\" title=\"คุยกับผู้ใช้:223.204.218.13 (ไม่มีหน้านี้)\">คุย</a>)</span></span> เมื่อ <span id=\"mw-revision-date\">19:58, 24 เมษายน 2562</span><span id=\"mw-revision-summary\"> <span class=\"comment\">(<span dir=\"auto\"><span class=\"autocomment\"><a href=\"#นักแสดงในสังกัด\">→‎นักแสดงในสังกัด</a></span></span>)</span></span> ซึ่งอาจแตกต่างจาก<span class=\"plainlinks\"><a class=\"external text\" href=\"https://th.wikipedia.org/wiki/%E0%B8%88%E0%B8%B5%E0%B8%94%E0%B8%B5%E0%B9%80%E0%B8%AD%E0%B8%8A\">รุ่นแก้ไขปัจจุบัน</a></span>มาก</b>,\n",
       " <b>จีดีเอช</b>,\n",
       " <b>บริษัท จีดีเอช ห้าห้าเก้า จำกัด</b>,\n",
       " <b>GDH</b>,\n",
       " <b>จีดีเอช ห้าห้าเก้า</b>,\n",
       " <b>จีดีเอช</b>,\n",
       " <b>ผู้กำกับภาพยนตร์</b>,\n",
       " <b>GDH</b>,\n",
       " <b>นาดาวบางกอก</b>,\n",
       " <b>ภาพดีทวีสุข</b>,\n",
       " <b>งานดีทวีสุข</b>,\n",
       " <b>อดีตนักแสดงในสังกัด</b>,\n",
       " <b>นักแสดงนอกสังกัดที่เคยร่วมมีผลงาน</b>,\n",
       " <b>110.91 ล้านบาท</b>,\n",
       " <b>112.15 ล้านบาท</b>,\n",
       " <b>146.14 ล้านบาท</b>,\n",
       " <b>130.08 ล้านบาท</b>,\n",
       " <b>รายการท่องเที่ยว</b>,\n",
       " <b>ปกิณกะ</b>,\n",
       " <b>รายการวาไรตี้</b>,\n",
       " <b>ข่าวและสาระเชิงข่าว</b>,\n",
       " <b>สารคดี</b>,\n",
       " <b>ปกิณกะ</b>,\n",
       " <b>คมชัดลึก</b>,\n",
       " <b>บุคคลสำคัญ</b>,\n",
       " <b>ภาพยนตร์</b>,\n",
       " <b>โทรทัศน์</b>,\n",
       " <b>2559</b>,\n",
       " <b>2560</b>,\n",
       " <b>2561</b>,\n",
       " <b>2562</b>,\n",
       " <b>2563</b>,\n",
       " <b>2564</b>,\n",
       " <b>ส่วนเกี่ยวข้อง</b>,\n",
       " <b>ดูเพิ่มเติม</b>]"
      ]
     },
     "execution_count": 3,
     "metadata": {},
     "output_type": "execute_result"
    }
   ],
   "source": [
    "soup('b')"
   ]
  },
  {
   "cell_type": "code",
   "execution_count": 4,
   "metadata": {},
   "outputs": [
    {
     "data": {
      "text/plain": [
       "<b>ผู้กำกับภาพยนตร์</b>"
      ]
     },
     "execution_count": 4,
     "metadata": {},
     "output_type": "execute_result"
    }
   ],
   "source": [
    "soup.find('b', string='ผู้กำกับภาพยนตร์')"
   ]
  },
  {
   "cell_type": "code",
   "execution_count": 5,
   "metadata": {},
   "outputs": [
    {
     "name": "stdout",
     "output_type": "stream",
     "text": [
      "<ul><li><a href=\"/wiki/%E0%B8%88%E0%B8%B4%E0%B8%A3%E0%B8%B0_%E0%B8%A1%E0%B8%B0%E0%B8%A5%E0%B8%B4%E0%B8%81%E0%B8%B8%E0%B8%A5\" title=\"จิระ มะลิกุล\">จิระ มะลิกุล</a></li>\n",
      "<li><a href=\"/wiki/%E0%B8%A2%E0%B8%87%E0%B8%A2%E0%B8%B8%E0%B8%97%E0%B8%98_%E0%B8%97%E0%B8%AD%E0%B8%87%E0%B8%81%E0%B8%AD%E0%B8%87%E0%B8%97%E0%B8%B8%E0%B8%99\" title=\"ยงยุทธ ทองกองทุน\">ยงยุทธ ทองกองทุน</a></li>\n",
      "<li><a href=\"/wiki/%E0%B8%AD%E0%B8%94%E0%B8%B4%E0%B8%AA%E0%B8%A3%E0%B8%93%E0%B9%8C_%E0%B8%95%E0%B8%A3%E0%B8%B5%E0%B8%AA%E0%B8%B4%E0%B8%A3%E0%B8%B4%E0%B9%80%E0%B8%81%E0%B8%A9%E0%B8%A1\" title=\"อดิสรณ์ ตรีสิริเกษม\">อดิสรณ์ ตรีสิริเกษม</a></li>\n",
      "<li><a href=\"/wiki/%E0%B8%97%E0%B8%A3%E0%B8%87%E0%B8%A2%E0%B8%A8_%E0%B8%AA%E0%B8%B8%E0%B8%82%E0%B8%A1%E0%B8%B2%E0%B8%81%E0%B8%AD%E0%B8%99%E0%B8%B1%E0%B8%99%E0%B8%95%E0%B9%8C\" title=\"ทรงยศ สุขมากอนันต์\">ทรงยศ สุขมากอนันต์</a></li>\n",
      "<li><a href=\"/wiki/%E0%B8%A7%E0%B8%B4%E0%B8%97%E0%B8%A2%E0%B8%B2_%E0%B8%97%E0%B8%AD%E0%B8%87%E0%B8%AD%E0%B8%A2%E0%B8%B9%E0%B9%88%E0%B8%A2%E0%B8%87\" title=\"วิทยา ทองอยู่ยง\">วิทยา ทองอยู่ยง</a></li>\n",
      "<li><a href=\"/wiki/%E0%B8%99%E0%B8%B4%E0%B8%98%E0%B8%B4%E0%B8%A7%E0%B8%B1%E0%B8%92%E0%B8%99%E0%B9%8C_%E0%B8%98%E0%B8%A3%E0%B8%B2%E0%B8%98%E0%B8%A3\" title=\"นิธิวัฒน์ ธราธร\">นิธิวัฒน์ ธราธร</a></li>\n",
      "<li><a href=\"/wiki/%E0%B8%84%E0%B8%A1%E0%B8%81%E0%B8%A4%E0%B8%A9_%E0%B8%95%E0%B8%A3%E0%B8%B5%E0%B8%A7%E0%B8%B4%E0%B8%A1%E0%B8%A5\" title=\"คมกฤษ ตรีวิมล\">คมกฤษ ตรีวิมล</a></li>\n",
      "<li><a href=\"/wiki/%E0%B8%9B%E0%B8%A7%E0%B8%B5%E0%B8%93_%E0%B8%A0%E0%B8%B9%E0%B8%A3%E0%B8%B4%E0%B8%88%E0%B8%B4%E0%B8%95%E0%B8%9B%E0%B8%B1%E0%B8%8D%E0%B8%8D%E0%B8%B2\" title=\"ปวีณ ภูริจิตปัญญา\">ปวีณ ภูริจิตปัญญา</a></li>\n",
      "<li><a href=\"/wiki/%E0%B8%9A%E0%B8%A3%E0%B8%A3%E0%B8%88%E0%B8%87_%E0%B8%9B%E0%B8%B4%E0%B8%AA%E0%B8%B1%E0%B8%8D%E0%B8%98%E0%B8%99%E0%B8%B0%E0%B8%81%E0%B8%B9%E0%B8%A5\" title=\"บรรจง ปิสัญธนะกูล\">บรรจง ปิสัญธนะกูล</a></li>\n",
      "<li><a href=\"/wiki/%E0%B8%A0%E0%B8%B2%E0%B8%84%E0%B8%A0%E0%B8%B9%E0%B8%A1%E0%B8%B4_%E0%B8%A7%E0%B8%87%E0%B8%A8%E0%B9%8C%E0%B8%A0%E0%B8%B9%E0%B8%A1%E0%B8%B4\" title=\"ภาคภูมิ วงศ์ภูมิ\">ภาคภูมิ วงศ์ภูมิ</a></li>\n",
      "<li><a href=\"/wiki/%E0%B9%82%E0%B8%AA%E0%B8%A0%E0%B8%93_%E0%B8%A8%E0%B8%B1%E0%B8%81%E0%B8%94%E0%B8%B2%E0%B8%9E%E0%B8%B4%E0%B8%A8%E0%B8%B4%E0%B8%A9%E0%B8%8F%E0%B9%8C\" title=\"โสภณ ศักดาพิศิษฏ์\">โสภณ ศักดาพิศิษฏ์</a></li>\n",
      "<li><a href=\"/wiki/%E0%B9%80%E0%B8%A1%E0%B8%A9_%E0%B8%98%E0%B8%A3%E0%B8%B2%E0%B8%98%E0%B8%A3\" title=\"เมษ ธราธร\">เมษ ธราธร</a></li>\n",
      "<li><a href=\"/wiki/%E0%B8%8A%E0%B8%A2%E0%B8%99%E0%B8%9E_%E0%B8%9A%E0%B8%B8%E0%B8%8D%E0%B8%9B%E0%B8%A3%E0%B8%B0%E0%B8%81%E0%B8%AD%E0%B8%9A\" title=\"ชยนพ บุญประกอบ\">ชยนพ บุญประกอบ</a></li>\n",
      "<li><a href=\"/wiki/%E0%B8%99%E0%B8%A7%E0%B8%9E%E0%B8%A5_%E0%B8%98%E0%B8%B3%E0%B8%A3%E0%B8%87%E0%B8%A3%E0%B8%B1%E0%B8%95%E0%B8%99%E0%B8%A4%E0%B8%97%E0%B8%98%E0%B8%B4%E0%B9%8C\" title=\"นวพล ธำรงรัตนฤทธิ์\">นวพล ธำรงรัตนฤทธิ์</a></li></ul>\n"
     ]
    }
   ],
   "source": [
    "director_list = soup.find('b', string='ผู้กำกับภาพยนตร์').find_next('ul')\n",
    "print(director_list)"
   ]
  },
  {
   "cell_type": "code",
   "execution_count": 6,
   "metadata": {},
   "outputs": [
    {
     "name": "stdout",
     "output_type": "stream",
     "text": [
      "<ul><li><a href=\"/wiki/%E0%B8%88%E0%B8%B4%E0%B8%A3%E0%B8%B0_%E0%B8%A1%E0%B8%B0%E0%B8%A5%E0%B8%B4%E0%B8%81%E0%B8%B8%E0%B8%A5\" title=\"จิระ มะลิกุล\">จิระ มะลิกุล</a></li>\n",
      "<li><a href=\"/wiki/%E0%B8%A2%E0%B8%87%E0%B8%A2%E0%B8%B8%E0%B8%97%E0%B8%98_%E0%B8%97%E0%B8%AD%E0%B8%87%E0%B8%81%E0%B8%AD%E0%B8%87%E0%B8%97%E0%B8%B8%E0%B8%99\" title=\"ยงยุทธ ทองกองทุน\">ยงยุทธ ทองกองทุน</a></li>\n",
      "<li><a href=\"/wiki/%E0%B8%AD%E0%B8%94%E0%B8%B4%E0%B8%AA%E0%B8%A3%E0%B8%93%E0%B9%8C_%E0%B8%95%E0%B8%A3%E0%B8%B5%E0%B8%AA%E0%B8%B4%E0%B8%A3%E0%B8%B4%E0%B9%80%E0%B8%81%E0%B8%A9%E0%B8%A1\" title=\"อดิสรณ์ ตรีสิริเกษม\">อดิสรณ์ ตรีสิริเกษม</a></li>\n",
      "<li><a href=\"/wiki/%E0%B8%97%E0%B8%A3%E0%B8%87%E0%B8%A2%E0%B8%A8_%E0%B8%AA%E0%B8%B8%E0%B8%82%E0%B8%A1%E0%B8%B2%E0%B8%81%E0%B8%AD%E0%B8%99%E0%B8%B1%E0%B8%99%E0%B8%95%E0%B9%8C\" title=\"ทรงยศ สุขมากอนันต์\">ทรงยศ สุขมากอนันต์</a></li>\n",
      "<li><a href=\"/wiki/%E0%B8%A7%E0%B8%B4%E0%B8%97%E0%B8%A2%E0%B8%B2_%E0%B8%97%E0%B8%AD%E0%B8%87%E0%B8%AD%E0%B8%A2%E0%B8%B9%E0%B9%88%E0%B8%A2%E0%B8%87\" title=\"วิทยา ทองอยู่ยง\">วิทยา ทองอยู่ยง</a></li>\n",
      "<li><a href=\"/wiki/%E0%B8%99%E0%B8%B4%E0%B8%98%E0%B8%B4%E0%B8%A7%E0%B8%B1%E0%B8%92%E0%B8%99%E0%B9%8C_%E0%B8%98%E0%B8%A3%E0%B8%B2%E0%B8%98%E0%B8%A3\" title=\"นิธิวัฒน์ ธราธร\">นิธิวัฒน์ ธราธร</a></li>\n",
      "<li><a href=\"/wiki/%E0%B8%84%E0%B8%A1%E0%B8%81%E0%B8%A4%E0%B8%A9_%E0%B8%95%E0%B8%A3%E0%B8%B5%E0%B8%A7%E0%B8%B4%E0%B8%A1%E0%B8%A5\" title=\"คมกฤษ ตรีวิมล\">คมกฤษ ตรีวิมล</a></li>\n",
      "<li><a href=\"/wiki/%E0%B8%9B%E0%B8%A7%E0%B8%B5%E0%B8%93_%E0%B8%A0%E0%B8%B9%E0%B8%A3%E0%B8%B4%E0%B8%88%E0%B8%B4%E0%B8%95%E0%B8%9B%E0%B8%B1%E0%B8%8D%E0%B8%8D%E0%B8%B2\" title=\"ปวีณ ภูริจิตปัญญา\">ปวีณ ภูริจิตปัญญา</a></li>\n",
      "<li><a href=\"/wiki/%E0%B8%9A%E0%B8%A3%E0%B8%A3%E0%B8%88%E0%B8%87_%E0%B8%9B%E0%B8%B4%E0%B8%AA%E0%B8%B1%E0%B8%8D%E0%B8%98%E0%B8%99%E0%B8%B0%E0%B8%81%E0%B8%B9%E0%B8%A5\" title=\"บรรจง ปิสัญธนะกูล\">บรรจง ปิสัญธนะกูล</a></li>\n",
      "<li><a href=\"/wiki/%E0%B8%A0%E0%B8%B2%E0%B8%84%E0%B8%A0%E0%B8%B9%E0%B8%A1%E0%B8%B4_%E0%B8%A7%E0%B8%87%E0%B8%A8%E0%B9%8C%E0%B8%A0%E0%B8%B9%E0%B8%A1%E0%B8%B4\" title=\"ภาคภูมิ วงศ์ภูมิ\">ภาคภูมิ วงศ์ภูมิ</a></li>\n",
      "<li><a href=\"/wiki/%E0%B9%82%E0%B8%AA%E0%B8%A0%E0%B8%93_%E0%B8%A8%E0%B8%B1%E0%B8%81%E0%B8%94%E0%B8%B2%E0%B8%9E%E0%B8%B4%E0%B8%A8%E0%B8%B4%E0%B8%A9%E0%B8%8F%E0%B9%8C\" title=\"โสภณ ศักดาพิศิษฏ์\">โสภณ ศักดาพิศิษฏ์</a></li>\n",
      "<li><a href=\"/wiki/%E0%B9%80%E0%B8%A1%E0%B8%A9_%E0%B8%98%E0%B8%A3%E0%B8%B2%E0%B8%98%E0%B8%A3\" title=\"เมษ ธราธร\">เมษ ธราธร</a></li>\n",
      "<li><a href=\"/wiki/%E0%B8%8A%E0%B8%A2%E0%B8%99%E0%B8%9E_%E0%B8%9A%E0%B8%B8%E0%B8%8D%E0%B8%9B%E0%B8%A3%E0%B8%B0%E0%B8%81%E0%B8%AD%E0%B8%9A\" title=\"ชยนพ บุญประกอบ\">ชยนพ บุญประกอบ</a></li>\n",
      "<li><a href=\"/wiki/%E0%B8%99%E0%B8%A7%E0%B8%9E%E0%B8%A5_%E0%B8%98%E0%B8%B3%E0%B8%A3%E0%B8%87%E0%B8%A3%E0%B8%B1%E0%B8%95%E0%B8%99%E0%B8%A4%E0%B8%97%E0%B8%98%E0%B8%B4%E0%B9%8C\" title=\"นวพล ธำรงรัตนฤทธิ์\">นวพล ธำรงรัตนฤทธิ์</a></li></ul>\n"
     ]
    }
   ],
   "source": [
    "director_list = soup.find('b', string='ผู้กำกับภาพยนตร์').find_next_sibling('ul')\n",
    "print(director_list)"
   ]
  },
  {
   "cell_type": "code",
   "execution_count": 7,
   "metadata": {},
   "outputs": [
    {
     "name": "stdout",
     "output_type": "stream",
     "text": [
      "จิระ มะลิกุล\n",
      "ยงยุทธ ทองกองทุน\n",
      "อดิสรณ์ ตรีสิริเกษม\n",
      "ทรงยศ สุขมากอนันต์\n",
      "วิทยา ทองอยู่ยง\n",
      "นิธิวัฒน์ ธราธร\n",
      "คมกฤษ ตรีวิมล\n",
      "ปวีณ ภูริจิตปัญญา\n",
      "บรรจง ปิสัญธนะกูล\n",
      "ภาคภูมิ วงศ์ภูมิ\n",
      "โสภณ ศักดาพิศิษฏ์\n",
      "เมษ ธราธร\n",
      "ชยนพ บุญประกอบ\n",
      "นวพล ธำรงรัตนฤทธิ์\n"
     ]
    }
   ],
   "source": [
    "for li in director_list('li'):\n",
    "    print(li.a.get_text())"
   ]
  },
  {
   "cell_type": "code",
   "execution_count": 9,
   "metadata": {},
   "outputs": [
    {
     "name": "stdout",
     "output_type": "stream",
     "text": [
      "ศิรชัช เจียรถาวร\n",
      "กันต์ ชุณหวัตร\n",
      "ธนภพ ลีรัตนขจร\n",
      "โอบนิธิ วิวรรธนวรางค์\n",
      "ธิติ มหาโยธารักษ์\n",
      "วงศ์รวี นทีธร\n",
      "กฤษณภูมิ พิบูลสงคราม\n",
      "ชลธร คงยิ่งยง\n",
      "ศนันธฉัตร ธนพัฒน์พิศาล\n",
      "เขมิศรา พลเดช\n",
      "ณิชาภัทร ฉัตรชัยพลรัตน์\n",
      "นรีกุล เกตุประภากร\n",
      "กัญญาวีร์ สองเมือง\n",
      "ภาวดี คุ้มโชคไพศาล\n",
      "ชญานิษฐ์ ชาญสง่าเวช\n",
      "นฤภรกมล ฉายแสง\n",
      "อทิตยา เครก\n",
      "เสฎฐวุฒิ อนุสิทธิ์\n",
      "ณภัทร โชคจินดาชัย\n",
      "อวัช รัตนปิณฑะ\n",
      "ต้นหน ตันติเวชกุล\n",
      "สาริษฐ์ ตรัยเลิศวิเชียร\n",
      "ณัชพัณณ์ ปรมะเจริญโรจน์\n",
      "ธีธัช รัตนศรีทัย\n",
      "อิงครัต ดำรงค์ศักดิ์กุล\n",
      "จิรายุส ขาวใบไม้\n",
      "กณิศ วิเชียรวนิชกุล\n",
      "แดน พฤกษ์พยุง\n",
      "ปณชัย ศรีอริยะรุ่งเรือง\n",
      "กานดิศ วรรณอรุณ\n",
      "พุฒิพงศ์ อัสสรัตนกุล\n",
      "กฤษฏ์ อำนวยเดชกร\n",
      "พลวิชญ์ เกตุประภากร\n",
      "พาริส อินทรโกมาลย์สุต\n",
      "เจษฎาวัฒน์ สุวรรณวนิชกิจ\n",
      "ศวรรยา ไพศาลพยัคฆ์\n"
     ]
    }
   ],
   "source": [
    "artists_list = soup.find('b', string = 'นาดาวบางกอก').find_next('ul')\n",
    "for li in artists_list('li'):\n",
    "    print(li.get_text())"
   ]
  },
  {
   "cell_type": "code",
   "execution_count": 10,
   "metadata": {},
   "outputs": [
    {
     "name": "stdout",
     "output_type": "stream",
     "text": [
      "อทิตยา เครก\n",
      "ต้นหน ตันติเวชกุล\n",
      "สาริษฐ์ ตรัยเลิศวิเชียร\n",
      "ณัชพัณณ์ ปรมะเจริญโรจน์\n",
      "จิรายุส ขาวใบไม้\n",
      "กณิศ วิเชียรวนิชกุล\n",
      "แดน พฤกษ์พยุง\n",
      "ปณชัย ศรีอริยะรุ่งเรือง\n",
      "กานดิศ วรรณอรุณ\n",
      "พลวิชญ์ เกตุประภากร\n",
      "เจษฎาวัฒน์ สุวรรณวนิชกิจ\n"
     ]
    }
   ],
   "source": [
    "for a in artists_list.find_all('a', class_='new'):\n",
    "    print(a.get_text())"
   ]
  },
  {
   "cell_type": "code",
   "execution_count": null,
   "metadata": {},
   "outputs": [],
   "source": []
  }
 ],
 "metadata": {
  "kernelspec": {
   "display_name": "Python 3",
   "language": "python",
   "name": "python3"
  },
  "language_info": {
   "codemirror_mode": {
    "name": "ipython",
    "version": 3
   },
   "file_extension": ".py",
   "mimetype": "text/x-python",
   "name": "python",
   "nbconvert_exporter": "python",
   "pygments_lexer": "ipython3",
   "version": "3.10.13"
  }
 },
 "nbformat": 4,
 "nbformat_minor": 2
}
