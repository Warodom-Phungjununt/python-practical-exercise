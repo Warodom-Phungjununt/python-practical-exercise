{
 "cells": [
  {
   "cell_type": "code",
   "execution_count": 1,
   "metadata": {},
   "outputs": [
    {
     "name": "stdout",
     "output_type": "stream",
     "text": [
      "<Response [200]>\n",
      "200 OK\n",
      "{'date': 'Wed, 03 Apr 2024 15:07:04 GMT', 'server': 'mw-web.codfw.main-97c4f9b8d-rpxrp', 'x-content-type-options': 'nosniff', 'content-language': 'th', 'origin-trial': 'AonOP4SwCrqpb0nhZbg554z9iJimP3DxUDB8V4yu9fyyepauGKD0NXqTknWi4gnuDfMG6hNb7TDUDTsl0mDw9gIAAABmeyJvcmlnaW4iOiJodHRwczovL3dpa2lwZWRpYS5vcmc6NDQzIiwiZmVhdHVyZSI6IlRvcExldmVsVHBjZCIsImV4cGlyeSI6MTczNTM0Mzk5OSwiaXNTdWJkb21haW4iOnRydWV9', 'accept-ch': '', 'vary': 'Accept-Encoding,Cookie,Authorization', 'last-modified': 'Tue, 26 Mar 2024 04:30:32 GMT', 'content-type': 'text/html; charset=UTF-8', 'content-encoding': 'gzip', 'age': '891', 'x-cache': 'cp5023 hit, cp5023 hit/2', 'x-cache-status': 'hit-front', 'server-timing': 'cache;desc=\"hit-front\", host;desc=\"cp5023\"', 'strict-transport-security': 'max-age=106384710; includeSubDomains; preload', 'report-to': '{ \"group\": \"wm_nel\", \"max_age\": 604800, \"endpoints\": [{ \"url\": \"https://intake-logging.wikimedia.org/v1/events?stream=w3c.reportingapi.network_error&schema_uri=/w3c/reportingapi/network_error/1.0.0\" }] }', 'nel': '{ \"report_to\": \"wm_nel\", \"max_age\": 604800, \"failure_fraction\": 0.05, \"success_fraction\": 0.0}', 'set-cookie': 'WMF-Last-Access=03-Apr-2024;Path=/;HttpOnly;secure;Expires=Sun, 05 May 2024 12:00:00 GMT, WMF-Last-Access-Global=03-Apr-2024;Path=/;Domain=.wikipedia.org;HttpOnly;secure;Expires=Sun, 05 May 2024 12:00:00 GMT, WMF-DP=855;Path=/;HttpOnly;secure;Expires=Thu, 04 Apr 2024 00:00:00 GMT, GeoIP=SG::Singapore:1.29:103.85:v4; Path=/; secure; Domain=.wikipedia.org, NetworkProbeLimit=0.001;Path=/;Secure;Max-Age=3600', 'x-client-ip': '52.187.60.140', 'cache-control': 'private, s-maxage=0, max-age=0, must-revalidate', 'accept-ranges': 'bytes', 'content-length': '44422'}\n",
      "<!DOCTYPE html>\n",
      "<html class=\"client-nojs vector-feature-language-in-header-enabled vector-feature-language-in-main-page-header-disabled vector-feature-sticky-header-disabled vector-feature-page-tools-pinned-disabled vector-feature-toc-pinned-clientpref-1 vector-feature-main-menu-pinned-disabled vector-feature-limited-width-clientpref-1 vector-feature-limited-width-content-enabled vector-feature-custom-font-size-clientpref-0 vector-feature-client-preferences-disabled vector-feature-client-prefs-p\n"
     ]
    }
   ],
   "source": [
    "import requests\n",
    "import urllib.parse\n",
    "from bs4 import BeautifulSoup\n",
    "from time import sleep\n",
    "import copy\n",
    "\n",
    "response = requests.get('https://th.wikipedia.org/w/index.php?title=จีดีเอช&oldid=8244422')\n",
    "\n",
    "print(response)\n",
    "print(response.status_code, response.reason)\n",
    "print(response.headers)\n",
    "\n",
    "html = response.text\n",
    "soup = BeautifulSoup(html, 'html.parser')\n",
    "print(soup.prettify()[0:500])"
   ]
  },
  {
   "cell_type": "markdown",
   "metadata": {},
   "source": [
    "##### ผลงานภาพยนตร์ของ GDH\n",
    "ในแบบฝึกหัดต่อไป เราจะทำการดึงชื่อภาพยนตร์ของ GDH และ link หน้า Wikipedia ของภาพยนตร์แต่ละเรื่อง ใน table ด้านล่างนี้มา เพื่อใช้เข้าไป crawl ข้อมูลว่า\n",
    "\n",
    "- ใครเป็นผู้กำกับ\n",
    "- วันเข้าฉายวันที่เท่าไหร่\n",
    "- ทำรายได้ไปมากน้อยแค่ไหน"
   ]
  },
  {
   "cell_type": "code",
   "execution_count": null,
   "metadata": {},
   "outputs": [],
   "source": []
  }
 ],
 "metadata": {
  "kernelspec": {
   "display_name": "Python 3",
   "language": "python",
   "name": "python3"
  },
  "language_info": {
   "codemirror_mode": {
    "name": "ipython",
    "version": 3
   },
   "file_extension": ".py",
   "mimetype": "text/x-python",
   "name": "python",
   "nbconvert_exporter": "python",
   "pygments_lexer": "ipython3",
   "version": "3.10.13"
  }
 },
 "nbformat": 4,
 "nbformat_minor": 2
}
